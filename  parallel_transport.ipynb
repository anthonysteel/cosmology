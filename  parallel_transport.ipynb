{
 "cells": [
  {
   "cell_type": "markdown",
   "id": "2a0932af",
   "metadata": {},
   "source": [
    "   # Parallel Transport\n",
    "   Show that the parallel transport around a 2-sphere reorients the transported vector."
   ]
  },
  {
   "cell_type": "markdown",
   "id": "0938ae5c",
   "metadata": {},
   "source": [
    "Install ```python``` packages for symbolic manipulation:"
   ]
  },
  {
   "cell_type": "code",
   "execution_count": 2,
   "id": "3236c980",
   "metadata": {},
   "outputs": [],
   "source": [
    "import sympy as sym"
   ]
  },
  {
   "cell_type": "markdown",
   "id": "19ecf373",
   "metadata": {},
   "source": [
    "Define two coordinates to describe the 2-sphere, $\\theta$ and $\\phi$:"
   ]
  },
  {
   "cell_type": "code",
   "execution_count": 3,
   "id": "29d046f8",
   "metadata": {},
   "outputs": [],
   "source": [
    "theta, phi, r = sym.symbols('theta, phi, r')"
   ]
  },
  {
   "cell_type": "markdown",
   "id": "f97a7fb9",
   "metadata": {},
   "source": [
    "The metric for the 2-sphere is:\n",
    "$$\n",
    "g_{\\alpha, \\beta} = \\begin{bmatrix}\n",
    "r^2 & 0 \\\\\n",
    "0 & r^2 \\sin^2\\theta\n",
    "\\end{bmatrix}\n",
    "$$\n",
    "$$\n",
    "g^{\\alpha, \\beta} = \\begin{bmatrix}\n",
    "\\frac{1}{r^2} & 0 \\\\\n",
    "0 & \\frac{1}{r^2 \\sin^2\\theta}\n",
    "\\end{bmatrix}\n",
    "$$"
   ]
  },
  {
   "cell_type": "code",
   "execution_count": 6,
   "id": "71704c5d",
   "metadata": {},
   "outputs": [],
   "source": [
    "gab = sym.Matrix([[r**2, 0], [0, r ** 2 * sym.sin(theta)**2]])"
   ]
  },
  {
   "cell_type": "markdown",
   "id": "6f0c6484",
   "metadata": {},
   "source": [
    "The equation for parallel transport of a vector $v^\\beta$ along a curve $C$ with a tangent\n",
    "$t^\\alpha$ is:\n",
    "$$\n",
    "t^\\alpha \\nabla_\\alpha v^\\beta = 0 \n",
    "$$\n",
    "or explicitly in a coordinate system:\n",
    "$$\n",
    "t^\\alpha \\partial_\\alpha v^\\beta + t^\\alpha \\Gamma^\\beta_{\\alpha\\gamma} v^\\gamma = 0\n",
    "$$"
   ]
  },
  {
   "cell_type": "markdown",
   "id": "f8446b12",
   "metadata": {},
   "source": [
    "Expanding these tensor relationships in the given coordinate system gives:\n",
    "$$\n",
    "\\begin{align}\n",
    "t^\\theta \\partial_\\theta v^\\theta + t^\\phi \\partial_\\phi v^\\theta + t^\\theta \\Gamma_{\\theta\\theta}^\\theta v^\\theta +\n",
    "t^\\theta \\Gamma_{\\theta\\phi}^\\theta v^\\phi + t^\\phi \\Gamma_{\\phi\\theta}^\\theta v^\\theta +t^\\phi \\Gamma_{\\phi\\phi}^\\theta v^\\phi = 0\n",
    "\\end{align}\n",
    "$$\n",
    "$$\n",
    "\\begin{align}\n",
    "t^\\theta \\partial_\\theta v^\\phi + t^\\phi \\partial_\\phi v^\\phi + t^\\theta \\Gamma_{\\theta\\theta}^\\phi v^\\theta +\n",
    "t^\\theta \\Gamma_{\\theta\\phi}^\\phi v^\\phi + t^\\phi \\Gamma_{\\phi\\theta}^\\phi v^\\theta +t^\\phi \\Gamma_{\\phi\\phi}^\\phi v^\\phi = 0\n",
    "\\end{align}\n",
    "$$\n",
    "Now consider the Christoffel symbols:\n",
    "$$\n",
    "\\Gamma^\\beta_{\\alpha\\gamma} = \\frac{1}{2} g^{\\beta\\delta} (\\partial_{\\alpha}g_{\\gamma\\delta} + \\partial_{\\gamma}g_{\\alpha\\delta}-\\partial_{\\delta}g_{\\alpha\\gamma})\n",
    "$$\n",
    "Exploiting the fact that the Christoffel symbols are symmetric in the lower two indices it is sufficient to consider the following symbols: $\\Gamma^\\theta_{\\theta\\theta}$, $\\Gamma^\\phi_{\\phi\\phi}$, $\\Gamma^\\theta_{\\theta\\phi}$, $\\Gamma^\\theta_{\\phi\\phi}$, $\\Gamma^\\phi_{\\theta\\phi}$, $\\Gamma^\\phi_{\\theta\\theta}$ .\n",
    "\n",
    "Now the\n",
    "Expanding the terms in the given coordinate system and remembering that off diagonal components of the metric\n",
    "are zero:\n",
    "$$\n",
    "\\Gamma^\\theta_{\\theta\\theta} = \\frac{1}{2} g^{\\theta\\theta} (\\partial_{\\theta}g_{\\theta\\theta} + \\partial_{\\theta}g_{\\theta\\theta}-\\partial_{\\theta}g_{\\theta\\theta}) = 0\n",
    "$$\n",
    "$$\n",
    "\\Gamma^\\phi_{\\phi\\phi} = \\frac{1}{2} g^{\\phi\\phi} (\\partial_{\\phi}g_{\\phi\\phi}+\\partial_{\\phi}g_{\\phi\\phi}-\\partial_{\\phi}g_{\\phi\\phi}) = 0\n",
    "$$\n",
    "$$\n",
    "\\Gamma^\\theta_{\\theta\\phi} = \\frac{1}{2} g^{\\theta\\theta} (\\partial_{\\phi}g_{\\phi\\theta} + \\partial_{\\phi}g_{\\phi\\theta}-\\partial_{\\phi}g_{\\theta\\theta}) = 0\n",
    "$$\n",
    "$$\n",
    "\\Gamma^\\theta_{\\phi\\phi} = \\frac{1}{2} g^{\\theta\\theta}(\\partial_{\\phi}g_{\\phi\\theta}+\\partial_{\\phi}g_{\\phi\\theta}-\\partial_{\\theta}g_{\\phi\\phi}) = - \\frac{1}{2} g^{\\theta\\theta} \\partial_\\theta g_{\\phi\\phi}\n",
    "$$\n",
    "$$\n",
    "\\Gamma^\\phi_{\\theta\\phi} = \\frac{1}{2} g^{\\phi\\phi} (\\partial_\\theta g_{\\phi\\phi} + \\partial_\\phi g_{\\theta\\phi} - \\partial_\\phi g_{\\theta\\phi}) = \\frac{1}{2} g^{\\phi\\phi} \\partial_\\theta g_{\\phi\\phi}\n",
    "$$\n",
    "$$\n",
    "\\Gamma^\\phi_{\\theta\\theta} = \\frac{1}{2} g^{\\phi\\phi} (\\partial_\\theta g_{\\theta\\phi} + \\partial_{\\theta} g_{\\theta\\phi} - \\partial_\\phi g_{\\theta\\theta}) = 0\n",
    "$$\n",
    "Therefore there are only 3 non-zero Christoffel symbols $\\Gamma^\\theta_{\\phi\\phi}$, $\\Gamma^\\phi_{\\theta\\phi}$ and $\\Gamma^\\phi_{\\phi\\theta}$. This simplifies the equations for parallel transport dramatically to:\n",
    "$$\n",
    "\\begin{align}\n",
    "t^\\theta \\partial_\\theta v^\\theta + t^\\phi \\partial_\\phi v^\\theta +\\Gamma_{\\phi\\phi}^\\theta v^\\phi = 0\n",
    "\\end{align}\n",
    "$$\n",
    "$$\n",
    "\\begin{align}\n",
    "t^\\theta \\partial_\\theta v^\\phi + t^\\phi \\partial_\\phi v^\\phi+\n",
    "t^\\theta \\Gamma_{\\theta\\phi}^\\phi v^\\phi + t^\\phi \\Gamma_{\\phi\\theta}^\\phi v^\\theta = 0\n",
    "\\end{align}\n",
    "$$"
   ]
  },
  {
   "cell_type": "code",
   "execution_count": null,
   "id": "15d45e6f",
   "metadata": {},
   "outputs": [],
   "source": []
  },
  {
   "cell_type": "code",
   "execution_count": null,
   "id": "2cfdcb7f",
   "metadata": {},
   "outputs": [],
   "source": []
  }
 ],
 "metadata": {
  "kernelspec": {
   "display_name": "Python 3",
   "language": "python",
   "name": "python3"
  },
  "language_info": {
   "codemirror_mode": {
    "name": "ipython",
    "version": 3
   },
   "file_extension": ".py",
   "mimetype": "text/x-python",
   "name": "python",
   "nbconvert_exporter": "python",
   "pygments_lexer": "ipython3",
   "version": "3.9.2"
  }
 },
 "nbformat": 4,
 "nbformat_minor": 5
}
