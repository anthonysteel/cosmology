{
 "cells": [
  {
   "cell_type": "code",
   "execution_count": 19,
   "metadata": {},
   "outputs": [],
   "source": [
    "import matplotlib.pyplot as plt\n",
    "import numpy as np\n",
    "import sympy as sym\n",
    "import sympy.physics.mechanics as mech\n",
    "mech.init_vprinting()"
   ]
  },
  {
   "cell_type": "code",
   "execution_count": 20,
   "metadata": {},
   "outputs": [],
   "source": [
    "l, m, M, g = sym.symbols('l, m, M, g', postive=True)"
   ]
  },
  {
   "cell_type": "code",
   "execution_count": 21,
   "metadata": {},
   "outputs": [],
   "source": [
    "t = sym.symbols('t')\n",
    "x = sym.Function('x')(t)\n",
    "theta = sym.Function('theta')(t)"
   ]
  },
  {
   "cell_type": "code",
   "execution_count": 24,
   "metadata": {},
   "outputs": [],
   "source": [
    "T = sym.Rational(1, 2) * m * (x.diff(t)**2 + (x * theta.diff(t)) ** 2) + sym.Rational(1,6) * M * (l*theta.diff(t))**2"
   ]
  },
  {
   "cell_type": "code",
   "execution_count": 29,
   "metadata": {},
   "outputs": [],
   "source": [
    "V = - m * g * x * sym.cos(theta) - sym.Rational(1,2) * M * g * l * sym.cos(theta)"
   ]
  },
  {
   "cell_type": "code",
   "execution_count": 31,
   "metadata": {},
   "outputs": [],
   "source": [
    "L = T - V"
   ]
  },
  {
   "cell_type": "code",
   "execution_count": 32,
   "metadata": {},
   "outputs": [
    {
     "data": {
      "image/png": "[encoded data removed]",
      "text/latex": [
       "$\\displaystyle \\frac{M g l \\cos{\\left(\\theta \\right)}}{2} + \\frac{M l^{2} \\dot{\\theta}^{2}}{6} + g m x \\cos{\\left(\\theta \\right)} + \\frac{m \\left(x^{2} \\dot{\\theta}^{2} + \\dot{x}^{2}\\right)}{2}$"
      ],
      "text/plain": [
       "                  2  2                    ⎛ 2  2    2⎞\n",
       "M⋅g⋅l⋅cos(θ)   M⋅l ⋅θ̇                   m⋅⎝x ⋅θ̇  + ẋ ⎠\n",
       "──────────── + ─────── + g⋅m⋅x⋅cos(θ) + ──────────────\n",
       "     2            6                           2       "
      ]
     },
     "execution_count": 32,
     "metadata": {},
     "output_type": "execute_result"
    }
   ],
   "source": [
    "L"
   ]
  },
  {
   "cell_type": "code",
   "execution_count": null,
   "metadata": {},
   "outputs": [],
   "source": []
  }
 ],
 "metadata": {
  "kernelspec": {
   "display_name": "Python 3",
   "language": "python",
   "name": "python3"
  },
  "language_info": {
   "codemirror_mode": {
    "name": "ipython",
    "version": 3
   },
   "file_extension": ".py",
   "mimetype": "text/x-python",
   "name": "python",
   "nbconvert_exporter": "python",
   "pygments_lexer": "ipython3",
   "version": "3.6.9"
  }
 },
 "nbformat": 4,
 "nbformat_minor": 2
}
