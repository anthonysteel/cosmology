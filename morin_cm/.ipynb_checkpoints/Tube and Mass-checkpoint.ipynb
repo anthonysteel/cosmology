{
 "cells": [
  {
   "cell_type": "code",
   "execution_count": 35,
   "metadata": {},
   "outputs": [],
   "source": [
    "import matplotlib.pyplot as plt\n",
    "from matplotlib import animation\n",
    "from mpl_toolkits.mplot3d import Axes3D\n",
    "import numpy as np\n",
    "import sympy as sym\n",
    "import sympy.physics.mechanics as mech\n",
    "mech.init_vprinting()"
   ]
  },
  {
   "cell_type": "code",
   "execution_count": 36,
   "metadata": {},
   "outputs": [],
   "source": [
    "l, m, M, g = sym.symbols('l, m, M, g', postive=True)"
   ]
  },
  {
   "cell_type": "code",
   "execution_count": 37,
   "metadata": {},
   "outputs": [],
   "source": [
    "t = sym.symbols('t')\n",
    "x = sym.Function('x')(t)\n",
    "theta = sym.Function('theta')(t)"
   ]
  },
  {
   "cell_type": "code",
   "execution_count": 38,
   "metadata": {},
   "outputs": [],
   "source": [
    "T = sym.Rational(1, 2) * m * (x.diff(t)**2 + (x * theta.diff(t)) ** 2) + sym.Rational(1,6) * M * (l*theta.diff(t))**2\n",
    "V = - m * g * x * sym.cos(theta) - sym.Rational(1,2) * M * g * l * sym.cos(theta)"
   ]
  },
  {
   "cell_type": "code",
   "execution_count": 39,
   "metadata": {},
   "outputs": [],
   "source": [
    "L = T - V\n",
    "L_theta = (sym.diff(L.diff(theta.diff(t)), t) - L.diff(theta)).simplify()\n",
    "L_x = (sym.diff(L.diff(x.diff(t)), t) - L.diff(x)).simplify()"
   ]
  },
  {
   "cell_type": "code",
   "execution_count": 72,
   "metadata": {},
   "outputs": [],
   "source": [
    "theta_dd = sym.solve(L_theta, theta.diff(t).diff(t))[0]\n",
    "theta_d = theta.diff(t)\n",
    "x_dd = sym.solve(L_x, x.diff(t).diff(t))[0]\n",
    "x_d = x.diff(t)"
   ]
  },
  {
   "cell_type": "code",
   "execution_count": 75,
   "metadata": {},
   "outputs": [],
   "source": [
    "theta_dd_f = sym.lambdify((l, m, M, g, theta, theta_d, x, x_d), theta_dd)\n",
    "theta_d_f = sym.lambdify(theta_d, theta_d)\n",
    "x_dd_f = sym.lambdify((g, theta, theta_d, x), x_dd)\n",
    "x_d_f = sym.lambdify(x_d, x_d)"
   ]
  },
  {
   "cell_type": "code",
   "execution_count": null,
   "metadata": {},
   "outputs": [],
   "source": []
  },
  {
   "cell_type": "code",
   "execution_count": null,
   "metadata": {},
   "outputs": [],
   "source": []
  },
  {
   "cell_type": "code",
   "execution_count": null,
   "metadata": {},
   "outputs": [],
   "source": []
  },
  {
   "cell_type": "code",
   "execution_count": null,
   "metadata": {},
   "outputs": [],
   "source": []
  },
  {
   "cell_type": "code",
   "execution_count": null,
   "metadata": {},
   "outputs": [],
   "source": []
  }
 ],
 "metadata": {
  "kernelspec": {
   "display_name": "Python 3",
   "language": "python",
   "name": "python3"
  },
  "language_info": {
   "codemirror_mode": {
    "name": "ipython",
    "version": 3
   },
   "file_extension": ".py",
   "mimetype": "text/x-python",
   "name": "python",
   "nbconvert_exporter": "python",
   "pygments_lexer": "ipython3",
   "version": "3.6.9"
  }
 },
 "nbformat": 4,
 "nbformat_minor": 2
}
