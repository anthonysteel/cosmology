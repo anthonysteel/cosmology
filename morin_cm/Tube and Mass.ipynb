{
 "cells": [
  {
   "cell_type": "code",
   "execution_count": 3,
   "metadata": {},
   "outputs": [],
   "source": [
    "import matplotlib.pyplot as plt\n",
    "from matplotlib import animation\n",
    "from mpl_toolkits.mplot3d import Axes3D\n",
    "import numpy as np\n",
    "import sympy as sym\n",
    "import sympy.physics.mechanics as mech\n",
    "mech.init_vprinting()"
   ]
  },
  {
   "cell_type": "code",
   "execution_count": 4,
   "metadata": {},
   "outputs": [],
   "source": [
    "l, m, M, g = sym.symbols('l, m, M, g', postive=True)"
   ]
  },
  {
   "cell_type": "code",
   "execution_count": 5,
   "metadata": {},
   "outputs": [],
   "source": [
    "t = sym.symbols('t')\n",
    "x = sym.Function('x')(t)\n",
    "theta = sym.Function('theta')(t)"
   ]
  },
  {
   "cell_type": "code",
   "execution_count": 6,
   "metadata": {},
   "outputs": [],
   "source": [
    "T = sym.Rational(1, 2) * m * (x.diff(t)**2 + (x * theta.diff(t)) ** 2) + sym.Rational(1,6) * M * (l*theta.diff(t))**2\n",
    "V = - m * g * x * sym.cos(theta) - sym.Rational(1,2) * M * g * l * sym.cos(theta)"
   ]
  },
  {
   "cell_type": "code",
   "execution_count": 10,
   "metadata": {},
   "outputs": [
    {
     "data": {
      "image/png": "[encoded data removed]",
      "text/latex": [
       "$\\displaystyle \\frac{M g l \\sin{\\left(\\theta \\right)}}{2} + \\frac{M l^{2} \\ddot{\\theta}}{3} + g m x \\sin{\\left(\\theta \\right)} + m x^{2} \\ddot{\\theta} + 2 m x \\dot{\\theta} \\dot{x}$"
      ],
      "text/plain": [
       "                  2                                      \n",
       "M⋅g⋅l⋅sin(θ)   M⋅l ⋅θ̈                     2              \n",
       "──────────── + ────── + g⋅m⋅x⋅sin(θ) + m⋅x ⋅θ̈ + 2⋅m⋅x⋅θ̇⋅ẋ\n",
       "     2           3                                       "
      ]
     },
     "execution_count": 10,
     "metadata": {},
     "output_type": "execute_result"
    }
   ],
   "source": [
    "L = T - V\n",
    "theta = s\n",
    "L_theta = (sym.diff(L.diff(theta.diff(t)), t) - L.diff(theta)).simplify()\n",
    "L_x = (sym.diff(L.diff(x.diff(t)), t) - L.diff(x)).simplify()"
   ]
  },
  {
   "cell_type": "code",
   "execution_count": 8,
   "metadata": {},
   "outputs": [],
   "source": [
    "theta_dd = sym.solve(L_theta, theta.diff(t).diff(t))[0]\n",
    "theta_d = theta.diff(t)\n",
    "x_dd = sym.solve(L_x, x.diff(t).diff(t))[0]\n",
    "x_d = x.diff(t)"
   ]
  },
  {
   "cell_type": "code",
   "execution_count": 9,
   "metadata": {},
   "outputs": [],
   "source": [
    "theta_dd_f = sym.lambdify((l, m, M, g, theta, theta_d, x, x_d), theta_dd)\n",
    "theta_d_f = sym.lambdify(theta_d, theta_d)\n",
    "x_dd_f = sym.lambdify((g, theta, theta_d, x), x_dd)\n",
    "x_d_f = sym.lambdify(x_d, x_d)"
   ]
  },
  {
   "cell_type": "code",
   "execution_count": null,
   "metadata": {},
   "outputs": [],
   "source": []
  },
  {
   "cell_type": "code",
   "execution_count": null,
   "metadata": {},
   "outputs": [],
   "source": []
  },
  {
   "cell_type": "code",
   "execution_count": null,
   "metadata": {},
   "outputs": [],
   "source": []
  },
  {
   "cell_type": "code",
   "execution_count": null,
   "metadata": {},
   "outputs": [],
   "source": []
  },
  {
   "cell_type": "code",
   "execution_count": null,
   "metadata": {},
   "outputs": [],
   "source": []
  }
 ],
 "metadata": {
  "kernelspec": {
   "display_name": "Python 3",
   "language": "python",
   "name": "python3"
  },
  "language_info": {
   "codemirror_mode": {
    "name": "ipython",
    "version": 3
   },
   "file_extension": ".py",
   "mimetype": "text/x-python",
   "name": "python",
   "nbconvert_exporter": "python",
   "pygments_lexer": "ipython3",
   "version": "3.6.9"
  }
 },
 "nbformat": 4,
 "nbformat_minor": 2
}
