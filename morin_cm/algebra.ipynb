{
 "cells": [
  {
   "cell_type": "code",
   "execution_count": 119,
   "metadata": {},
   "outputs": [],
   "source": [
    "import matplotlib.pyplot as plt\n",
    "from matplotlib import animation\n",
    "from mpl_toolkits.mplot3d import Axes3D\n",
    "import numpy as np\n",
    "import sympy as sym\n",
    "import sympy.physics.mechanics as mech\n",
    "mech.init_vprinting()"
   ]
  },
  {
   "cell_type": "code",
   "execution_count": 183,
   "metadata": {},
   "outputs": [],
   "source": [
    "l, g, r, eps, w_0, A = sym.symbols(r'l, g, r, \\epsilon, \\omega_0, A', postive=True)\n",
    "t = sym.symbols('t')\n",
    "eta = sym.Function(r'\\eta')(t)\n",
    "eta = sym.symbols(r'\\eta')\n",
    "theta = sym.Function('theta')(t)\n",
    "\n",
    "a_0 = sym.Function('a_0')(t)\n",
    "a_1 = sym.Function('a_1')(t)"
   ]
  },
  {
   "cell_type": "markdown",
   "metadata": {},
   "source": [
    "### Equations of Motion\n",
    "$$ r \\frac{d}{dt} (\\eta^2 \\dot{\\theta}) + \\frac{1}{3} \\ddot{\\theta} = - \\frac{g}{l} (r \\eta + \\frac{1}{2}) \\sin\\theta$$\n",
    "$$ \\ddot{\\eta} = \\eta \\dot{\\theta}^2 + \\frac{g}{l} \\cos \\theta $$"
   ]
  },
  {
   "cell_type": "code",
   "execution_count": 184,
   "metadata": {},
   "outputs": [],
   "source": [
    "theta = a_0 + a_1 * eps\n",
    "lhs_theta = eps * (eta ** 2 * theta.diff(t)).diff(t) + sym.Rational(1, 3) * theta.diff(t).diff(t)\n",
    "rhs_theta = -(g / l) * (eps * eta + sym.Rational(1, 2)) * theta\n",
    "eqofm_theta = lhs_theta.expand() - rhs_theta.expand()"
   ]
  },
  {
   "cell_type": "code",
   "execution_count": 185,
   "metadata": {},
   "outputs": [
    {
     "data": {
      "image/png": "[encoded data removed]",
      "text/latex": [
       "$\\displaystyle \\eta^{2} \\ddot{a}_{0} + \\frac{\\eta g a_{0}}{l} + \\frac{g a_{1}}{2 l} + \\frac{\\ddot{a}_{1}}{3}$"
      ],
      "text/plain": [
       "    2      \\eta⋅g⋅a₀   g⋅a₁   a₁̈\n",
       "\\eta ⋅a₀̈ + ───────── + ──── + ──\n",
       "               l       2⋅l    3 "
      ]
     },
     "execution_count": 185,
     "metadata": {},
     "output_type": "execute_result"
    }
   ],
   "source": [
    "eps_first_order = sym.collect(eqofm_theta.expand(), eps).coeff(eps, 1)\n",
    "eps_first_order"
   ]
  },
  {
   "cell_type": "code",
   "execution_count": 186,
   "metadata": {},
   "outputs": [
    {
     "data": {
      "text/latex": [
       "$\\displaystyle \\frac{A g \\cos{\\left(\\omega_{0} t \\right)}}{2 l} + \\eta^{2} \\ddot{a}_{0} + \\frac{\\eta g a_{0}}{l} + \\frac{\\left(- A \\omega_{0}^{2} \\cos{\\left(\\omega_{0} t \\right)}\\right)}{3}$"
      ],
      "text/plain": [
       "                                              2                  \n",
       "                                             ∂                   \n",
       "                                            ───(A⋅cos(\\omega₀⋅t))\n",
       "                                              2                  \n",
       "A⋅g⋅cos(\\omega₀⋅t)       2      \\eta⋅g⋅a₀   ∂t                   \n",
       "────────────────── + \\eta ⋅a₀̈ + ───────── + ─────────────────────\n",
       "       2⋅l                          l                 3          "
      ]
     },
     "execution_count": 186,
     "metadata": {},
     "output_type": "execute_result"
    }
   ],
   "source": [
    "eps_first_order.subs(a_1, A * sym.cos(w_0 * t))"
   ]
  },
  {
   "cell_type": "code",
   "execution_count": 191,
   "metadata": {},
   "outputs": [
    {
     "data": {
      "image/png": "[encoded data removed]",
      "text/latex": [
       "$\\displaystyle \\frac{3 \\left(2 \\eta r + 1\\right)}{2 \\left(3 \\eta^{2} r + 1\\right)}$"
      ],
      "text/plain": [
       " 3⋅(2⋅\\eta⋅r + 1)\n",
       "─────────────────\n",
       "  ⎛      2      ⎞\n",
       "2⋅⎝3⋅\\eta ⋅r + 1⎠"
      ]
     },
     "execution_count": 191,
     "metadata": {},
     "output_type": "execute_result"
    }
   ],
   "source": [
    "sym.simplify((r * eta + sym.Rational(1, 2))/(r * eta ** 2 + sym.Rational(1, 3)))"
   ]
  },
  {
   "cell_type": "code",
   "execution_count": 192,
   "metadata": {},
   "outputs": [],
   "source": [
    "x, m, M, l = sym.symbols('x, m, M, l', positive=True)"
   ]
  },
  {
   "cell_type": "code",
   "execution_count": 194,
   "metadata": {},
   "outputs": [
    {
     "data": {
      "image/png": "[encoded data removed]",
      "text/latex": [
       "$\\displaystyle \\frac{4 \\left(M l^{2} + 3 m x^{2}\\right)}{3 \\left(M l + 4 m x\\right)}$"
      ],
      "text/plain": [
       "  ⎛   2        2⎞\n",
       "4⋅⎝M⋅l  + 3⋅m⋅x ⎠\n",
       "─────────────────\n",
       " 3⋅(M⋅l + 4⋅m⋅x) "
      ]
     },
     "execution_count": 194,
     "metadata": {},
     "output_type": "execute_result"
    }
   ],
   "source": [
    "sym.simplify((m * x**2 + sym.Rational(1,3) * M * l**2)/(m * x + sym.Rational(1,2) * M * l / 2))"
   ]
  },
  {
   "cell_type": "code",
   "execution_count": null,
   "metadata": {},
   "outputs": [],
   "source": []
  }
 ],
 "metadata": {
  "kernelspec": {
   "display_name": "Python 3",
   "language": "python",
   "name": "python3"
  },
  "language_info": {
   "codemirror_mode": {
    "name": "ipython",
    "version": 3
   },
   "file_extension": ".py",
   "mimetype": "text/x-python",
   "name": "python",
   "nbconvert_exporter": "python",
   "pygments_lexer": "ipython3",
   "version": "3.6.9"
  }
 },
 "nbformat": 4,
 "nbformat_minor": 2
}
